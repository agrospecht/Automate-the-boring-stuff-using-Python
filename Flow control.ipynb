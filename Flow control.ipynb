{
 "cells": [
  {
   "cell_type": "markdown",
   "metadata": {},
   "source": [
    "# Flow control\n"
   ]
  },
  {
   "cell_type": "code",
   "execution_count": 1,
   "metadata": {},
   "outputs": [
    {
     "name": "stdout",
     "output_type": "stream",
     "text": [
      "Who are you?\n",
      "Gabriel\n",
      "Who are you?\n",
      "Joe\n",
      "Hello, Joe. What is the password? (it is a fish!)\n",
      "swordfish\n"
     ]
    }
   ],
   "source": [
    "while True:\n",
    "\tprint('Who are you?')\n",
    "\tname = input()\n",
    "\tif name != 'Joe':\n",
    "\t\tcontinue\n",
    "\tprint('Hello, Joe. What is the password? (it is a fish!)')\n",
    "\tpassword = input()\n",
    "\tif password == 'swordfish':\n",
    "\t\tbreak\n",
    "\tprint('Access granted!')"
   ]
  },
  {
   "cell_type": "code",
   "execution_count": null,
   "metadata": {},
   "outputs": [],
   "source": []
  }
 ],
 "metadata": {
  "kernelspec": {
   "display_name": "Python 3",
   "language": "python",
   "name": "python3"
  },
  "language_info": {
   "codemirror_mode": {
    "name": "ipython",
    "version": 3
   },
   "file_extension": ".py",
   "mimetype": "text/x-python",
   "name": "python",
   "nbconvert_exporter": "python",
   "pygments_lexer": "ipython3",
   "version": "3.6.5"
  }
 },
 "nbformat": 4,
 "nbformat_minor": 2
}
